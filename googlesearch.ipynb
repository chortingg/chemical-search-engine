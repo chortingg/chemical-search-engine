{
 "cells": [
  {
   "cell_type": "code",
   "execution_count": null,
   "metadata": {},
   "outputs": [],
   "source": [
    "pip install beautifulsoup4"
   ]
  },
  {
   "cell_type": "code",
   "execution_count": null,
   "metadata": {},
   "outputs": [],
   "source": [
    "pip install google"
   ]
  },
  {
   "cell_type": "code",
   "execution_count": null,
   "metadata": {},
   "outputs": [],
   "source": [
    "pip install pandas"
   ]
  },
  {
   "cell_type": "code",
   "execution_count": 18,
   "metadata": {},
   "outputs": [],
   "source": [
    "import urllib as ul\n",
    "import os\n",
    "import time\n",
    "import requests\n",
    "import bs4\n",
    "import PyPDF2\n",
    "from io import BytesIO\n",
    "from urllib.parse import urljoin\n",
    "import pandas as pd\n",
    "from bs4 import BeautifulSoup as soup"
   ]
  },
  {
   "cell_type": "code",
   "execution_count": 19,
   "metadata": {},
   "outputs": [
    {
     "name": "stderr",
     "output_type": "stream",
     "text": [
      "\n",
      "\n",
      "====== WebDriver manager ======\n",
      "Could not get version for google-chrome.Is google-chrome installed?\n",
      "Get LATEST chromedriver version for None google-chrome\n",
      "Driver [C:\\Users\\chort\\.wdm\\drivers\\chromedriver\\win32\\100.0.4896.60\\chromedriver.exe] found in cache\n"
     ]
    }
   ],
   "source": [
    "from selenium import webdriver\n",
    "from selenium.webdriver.common.keys import Keys\n",
    "from selenium.webdriver.common.by import By\n",
    "from selenium.webdriver.support.ui import WebDriverWait\n",
    "from selenium.webdriver.support import expected_conditions as EC\n",
    "from selenium.webdriver.chrome.service import Service\n",
    "from selenium.webdriver.common.action_chains import ActionChains\n",
    "from webdriver_manager.chrome import ChromeDriverManager\n",
    "s = Service(ChromeDriverManager().install())\n",
    "driver = webdriver.Chrome(service=s)"
   ]
  },
  {
   "cell_type": "code",
   "execution_count": 20,
   "metadata": {},
   "outputs": [
    {
     "name": "stdout",
     "output_type": "stream",
     "text": [
      "https://h20195.www2.hp.com/V2/GetDocument.aspx?docname=c05998906\n",
      "https://h20195.www2.hp.com/V2/GetDocument.aspx?docname=c04932490\n",
      "https://www8.hp.com/h20195/v2/getpdf.aspx/c04935882.pdf\n",
      "https://www.hp.com/us-en/hp-information/sustainable-impact.html\n",
      "https://www.hpe.com/psnow/doc/c04862211?jumpid=in_lit-psnow-red\n",
      "https://citeseerx.ist.psu.edu/viewdoc/download?doi=10.1.1.196.5611&rep=rep1&type=pdf\n",
      "https://www.prodecopharma.com/en/products/lines/stomach/gse-biotic-hp\n",
      "https://www.zones.com/site/product/index.html?id=106968961\n",
      "https://www.misco.co.uk/product/Accessories/Service-support---Computers/HP/U0QS1E-Electronic-HP-Care-Pack-4-Hours-Of-GSE-Service-Wit?prodid=1906706\n",
      "http://www.chillingeffects.org/notice.cgi?sID=1845\n"
     ]
    }
   ],
   "source": [
    "try: \n",
    "    from googlesearch import search \n",
    "except ImportError:  \n",
    "    print(\"No module named 'google' found\") \n",
    "     \n",
    "query = \"hp gse\"\n",
    "  \n",
    "for j in search(query, tld=\"co.in\", num=10, stop=10, pause=2): \n",
    "    print(j)"
   ]
  },
  {
   "cell_type": "code",
   "execution_count": null,
   "metadata": {},
   "outputs": [],
   "source": [
    "driver.get(\"https://google.com\")\n",
    "search = driver.find_element(By.NAME, \"q\")\n",
    "search.send_keys(\"hp gse\")\n",
    "search.send_keys(Keys.RETURN)\n",
    "link = driver.find_element(By.PARTIAL_LINK_TEXT, \"HP's General Specification for the Environment (GSE)\")\n",
    "link.click()\n",
    "time.sleep(10)\n",
    "actions = ActionChains(driver)\n",
    "actions.send_keys(Keys.TAB * 14)\n",
    "actions.perform()\n",
    "actions.send_keys(Keys.RETURN)\n",
    "actions.perform()"
   ]
  },
  {
   "cell_type": "code",
   "execution_count": null,
   "metadata": {},
   "outputs": [],
   "source": [
    "def get_n_first_pages(n: int):\n",
    "    pages = [2]\n",
    "page_source = driver.page_source\n",
    "pages.append(driver.page_source)\n",
    "\n",
    "def get_pdf(link: str):\n",
    "    pdf_name = link.split(\"/\")[-1].split(\".\")[0]\n",
    "    pdf_link = [\n",
    "        urljoin(link, l.attrs[\"href\"])\n",
    "    ]\n",
    "    pdf_link = pdf_link[0]\n",
    "\n",
    "pdf_bytes = requests.get(pdf_link).content\n",
    "p = BytesIO(pdf_bytes)\n",
    "p.seek(0, os.SEEK_END)\n",
    "read_pdf = PyPDF2.PdfFileReader(p)\n",
    "count = read_pdf.numPages\n",
    "pages_txt = []\n",
    "\n",
    "for i in range(count):\n",
    "    page = read_pdf.getPage(i)\n",
    "    pages_txt.append(page.extractText())\n",
    "\n",
    "return pdf_name, pages_txt\n",
    "\n",
    "pages = get_n_first_pages(2)\n"
   ]
  }
 ],
 "metadata": {
  "kernelspec": {
   "display_name": "Python 3.9.2 64-bit",
   "metadata": {
    "interpreter": {
     "hash": "e47aea4c911e3151f669459b6c66bfa8f5a91d092c248e8c63e5fa6253801d9d"
    }
   },
   "name": "python3"
  },
  "language_info": {
   "codemirror_mode": {
    "name": "ipython",
    "version": 3
   },
   "file_extension": ".py",
   "mimetype": "text/x-python",
   "name": "python",
   "nbconvert_exporter": "python",
   "pygments_lexer": "ipython3",
   "version": "3.10.4"
  },
  "orig_nbformat": 2
 },
 "nbformat": 4,
 "nbformat_minor": 2
}
